{
 "cells": [
  {
   "cell_type": "markdown",
   "metadata": {
    "collapsed": true,
    "pycharm": {
     "is_executing": false,
     "name": "#%% md\n"
    }
   },
   "source": [
    "Задаю три множества"
   ]
  },
  {
   "cell_type": "code",
   "source": [
    "a = {2, 54, 3, 8, 1}\n",
    "b = {54, 7}\n",
    "c = {2, 3, 9}"
   ],
   "metadata": {
    "collapsed": false,
    "pycharm": {
     "name": "#%% \n",
     "is_executing": false
    }
   },
   "execution_count": 14,
   "outputs": []
  },
  {
   "cell_type": "markdown",
   "source": [
    "Выполняю пересечение"
   ],
   "metadata": {
    "collapsed": false,
    "pycharm": {
     "name": "#%% md\n"
    }
   }
  },
  {
   "cell_type": "code",
   "execution_count": 15,
   "outputs": [
    {
     "name": "stdout",
     "text": [
      "Пересечение а и b:  {54}\nПересечение b и c:  set()\nПересечение a и c:  {2, 3}\n"
     ],
     "output_type": "stream"
    }
   ],
   "source": [
    "print(\"Пересечение а и b: \", a.intersection(b))\n",
    "print(\"Пересечение b и c: \", b.intersection(c))\n",
    "print(\"Пересечение a и c: \", a.intersection(c))"
   ],
   "metadata": {
    "collapsed": false,
    "pycharm": {
     "name": "#%%\n",
     "is_executing": false
    }
   }
  },
  {
   "cell_type": "markdown",
   "source": [
    "Выполняю объединение"
   ],
   "metadata": {
    "collapsed": false,
    "pycharm": {
     "name": "#%% md\n"
    }
   }
  },
  {
   "cell_type": "code",
   "execution_count": 16,
   "outputs": [
    {
     "name": "stdout",
     "text": [
      "Объединение а и b:  {1, 2, 3, 54, 7, 8}\nОбъединение b и c:  {2, 3, 54, 7, 9}\nОбъединение a и c:  {1, 2, 3, 54, 8, 9}\n"
     ],
     "output_type": "stream"
    }
   ],
   "source": [
    "print(\"Объединение а и b: \", a.union(b))\n",
    "print(\"Объединение b и c: \", b.union(c))\n",
    "print(\"Объединение a и c: \", a.union(c))"
   ],
   "metadata": {
    "collapsed": false,
    "pycharm": {
     "name": "#%%\n",
     "is_executing": false
    }
   }
  },
  {
   "cell_type": "markdown",
   "source": [
    "Выполняю разность"
   ],
   "metadata": {
    "collapsed": false,
    "pycharm": {
     "name": "#%% md\n"
    }
   }
  },
  {
   "cell_type": "code",
   "execution_count": 17,
   "outputs": [
    {
     "name": "stdout",
     "text": [
      "Разность а и b:  {8, 1, 2, 3}\nРазность b и c:  {54, 7}\nРазность a и c:  {8, 1, 54}\nРазность b и a:  {7}\nРазность c и a:  {9}\n"
     ],
     "output_type": "stream"
    }
   ],
   "source": [
    "print(\"Разность а и b: \", a.difference(b))\n",
    "print(\"Разность b и c: \", b.difference(c))\n",
    "print(\"Разность a и c: \", a.difference(c))\n",
    "print(\"Разность b и a: \", b.difference(a))\n",
    "print(\"Разность c и a: \", c.difference(a))"
   ],
   "metadata": {
    "collapsed": false,
    "pycharm": {
     "name": "#%%\n",
     "is_executing": false
    }
   }
  },
  {
   "cell_type": "markdown",
   "source": [
    "Выполняю симметричную разность"
   ],
   "metadata": {
    "collapsed": false,
    "pycharm": {
     "name": "#%% md\n"
    }
   }
  },
  {
   "cell_type": "code",
   "execution_count": 18,
   "outputs": [
    {
     "name": "stdout",
     "text": [
      "Симметричная разность а и b:  {1, 2, 3, 7, 8}\nСимметричная разность b и c:  {2, 3, 7, 9, 54}\nСимметричная разность a и c:  {1, 54, 8, 9}\n"
     ],
     "output_type": "stream"
    }
   ],
   "source": [
    "print(\"Симметричная разность а и b: \", a.symmetric_difference(b))\n",
    "print(\"Симметричная разность b и c: \", b.symmetric_difference(c))\n",
    "print(\"Симметричная разность a и c: \", a.symmetric_difference(c))"
   ],
   "metadata": {
    "collapsed": false,
    "pycharm": {
     "name": "#%%\n",
     "is_executing": false
    }
   }
  },
  {
   "cell_type": "markdown",
   "source": [
    "Выполняю декартово произведение"
   ],
   "metadata": {
    "collapsed": false,
    "pycharm": {
     "name": "#%% md\n"
    }
   }
  },
  {
   "cell_type": "code",
   "execution_count": 19,
   "outputs": [
    {
     "name": "stdout",
     "text": [
      "Декартово произведение а и b:  {(8, 54), (3, 7), (1, 7), (54, 7), (8, 7), (54, 54), (2, 54), (3, 54), (2, 7), (1, 54)}\nДекартово произведение b и c:  {(54, 3), (54, 9), (54, 2), (7, 3), (7, 9), (7, 2)}\nДекартово произведение a и c:  {(3, 2), (8, 2), (2, 3), (2, 9), (3, 3), (3, 9), (1, 3), (54, 9), (1, 2), (8, 3), (8, 9), (54, 2), (54, 3), (2, 2), (1, 9)}\n"
     ],
     "output_type": "stream"
    }
   ],
   "source": [
    "import itertools\n",
    "ab = set()\n",
    "ac = set()\n",
    "bc = set()\n",
    "for i in itertools.product(a, b):\n",
    "    ab.add(i)\n",
    "for i in itertools.product(b, c):\n",
    "    bc.add(i)\n",
    "for i in itertools.product(a, c):\n",
    "    ac.add(i)\n",
    "print(\"Декартово произведение а и b: \", ab)\n",
    "print(\"Декартово произведение b и c: \", bc)\n",
    "print(\"Декартово произведение a и c: \", ac)\n"
   ],
   "metadata": {
    "collapsed": false,
    "pycharm": {
     "name": "#%%\n",
     "is_executing": false
    }
   }
  }
 ],
 "metadata": {
  "kernelspec": {
   "display_name": "Python 3",
   "language": "python",
   "name": "python3"
  },
  "language_info": {
   "codemirror_mode": {
    "name": "ipython",
    "version": 2
   },
   "file_extension": ".py",
   "mimetype": "text/x-python",
   "name": "python",
   "nbconvert_exporter": "python",
   "pygments_lexer": "ipython2",
   "version": "2.7.6"
  },
  "pycharm": {
   "stem_cell": {
    "cell_type": "raw",
    "source": [],
    "metadata": {
     "collapsed": false
    }
   }
  }
 },
 "nbformat": 4,
 "nbformat_minor": 0
}